{
 "cells": [
  {
   "cell_type": "code",
   "execution_count": 1,
   "metadata": {},
   "outputs": [
    {
     "name": "stderr",
     "output_type": "stream",
     "text": [
      "/Users/npb/miniconda3/envs/figaro/lib/python3.9/site-packages/tqdm/auto.py:21: TqdmWarning: IProgress not found. Please update jupyter and ipywidgets. See https://ipywidgets.readthedocs.io/en/stable/user_install.html\n",
      "  from .autonotebook import tqdm as notebook_tqdm\n"
     ]
    }
   ],
   "source": [
    "import pandas as pd\n",
    "import numpy as np\n",
    "import pytorch_lightning as pl\n",
    "import torch\n",
    "import os\n",
    "import glob"
   ]
  },
  {
   "cell_type": "code",
   "execution_count": 2,
   "metadata": {},
   "outputs": [],
   "source": [
    "csv_file = '/Users/npb/Desktop/CS224R/Project/music-transformer-rlhf/musicgpt-user-study/prompted-1.csv'\n",
    "dataframe = pd.read_csv(csv_file)"
   ]
  },
  {
   "cell_type": "code",
   "execution_count": 8,
   "metadata": {},
   "outputs": [
    {
     "data": {
      "text/html": [
       "<div>\n",
       "<style scoped>\n",
       "    .dataframe tbody tr th:only-of-type {\n",
       "        vertical-align: middle;\n",
       "    }\n",
       "\n",
       "    .dataframe tbody tr th {\n",
       "        vertical-align: top;\n",
       "    }\n",
       "\n",
       "    .dataframe thead th {\n",
       "        text-align: right;\n",
       "    }\n",
       "</style>\n",
       "<table border=\"1\" class=\"dataframe\">\n",
       "  <thead>\n",
       "    <tr style=\"text-align: right;\">\n",
       "      <th></th>\n",
       "      <th>Input.recording_0_url</th>\n",
       "      <th>Input.recording_1_url</th>\n",
       "      <th>Answer.preference</th>\n",
       "    </tr>\n",
       "  </thead>\n",
       "  <tbody>\n",
       "    <tr>\n",
       "      <th>0</th>\n",
       "      <td>https://p-lambda.github.io/musicgpt-user-study...</td>\n",
       "      <td>https://p-lambda.github.io/musicgpt-user-study...</td>\n",
       "      <td>1</td>\n",
       "    </tr>\n",
       "    <tr>\n",
       "      <th>1</th>\n",
       "      <td>https://p-lambda.github.io/musicgpt-user-study...</td>\n",
       "      <td>https://p-lambda.github.io/musicgpt-user-study...</td>\n",
       "      <td>1</td>\n",
       "    </tr>\n",
       "    <tr>\n",
       "      <th>2</th>\n",
       "      <td>https://p-lambda.github.io/musicgpt-user-study...</td>\n",
       "      <td>https://p-lambda.github.io/musicgpt-user-study...</td>\n",
       "      <td>3</td>\n",
       "    </tr>\n",
       "    <tr>\n",
       "      <th>3</th>\n",
       "      <td>https://p-lambda.github.io/musicgpt-user-study...</td>\n",
       "      <td>https://p-lambda.github.io/musicgpt-user-study...</td>\n",
       "      <td>3</td>\n",
       "    </tr>\n",
       "    <tr>\n",
       "      <th>5</th>\n",
       "      <td>https://p-lambda.github.io/musicgpt-user-study...</td>\n",
       "      <td>https://p-lambda.github.io/musicgpt-user-study...</td>\n",
       "      <td>3</td>\n",
       "    </tr>\n",
       "    <tr>\n",
       "      <th>...</th>\n",
       "      <td>...</td>\n",
       "      <td>...</td>\n",
       "      <td>...</td>\n",
       "    </tr>\n",
       "    <tr>\n",
       "      <th>591</th>\n",
       "      <td>https://p-lambda.github.io/musicgpt-user-study...</td>\n",
       "      <td>https://p-lambda.github.io/musicgpt-user-study...</td>\n",
       "      <td>3</td>\n",
       "    </tr>\n",
       "    <tr>\n",
       "      <th>592</th>\n",
       "      <td>https://p-lambda.github.io/musicgpt-user-study...</td>\n",
       "      <td>https://p-lambda.github.io/musicgpt-user-study...</td>\n",
       "      <td>1</td>\n",
       "    </tr>\n",
       "    <tr>\n",
       "      <th>593</th>\n",
       "      <td>https://p-lambda.github.io/musicgpt-user-study...</td>\n",
       "      <td>https://p-lambda.github.io/musicgpt-user-study...</td>\n",
       "      <td>3</td>\n",
       "    </tr>\n",
       "    <tr>\n",
       "      <th>597</th>\n",
       "      <td>https://p-lambda.github.io/musicgpt-user-study...</td>\n",
       "      <td>https://p-lambda.github.io/musicgpt-user-study...</td>\n",
       "      <td>3</td>\n",
       "    </tr>\n",
       "    <tr>\n",
       "      <th>599</th>\n",
       "      <td>https://p-lambda.github.io/musicgpt-user-study...</td>\n",
       "      <td>https://p-lambda.github.io/musicgpt-user-study...</td>\n",
       "      <td>3</td>\n",
       "    </tr>\n",
       "  </tbody>\n",
       "</table>\n",
       "<p>504 rows × 3 columns</p>\n",
       "</div>"
      ],
      "text/plain": [
       "                                 Input.recording_0_url  \\\n",
       "0    https://p-lambda.github.io/musicgpt-user-study...   \n",
       "1    https://p-lambda.github.io/musicgpt-user-study...   \n",
       "2    https://p-lambda.github.io/musicgpt-user-study...   \n",
       "3    https://p-lambda.github.io/musicgpt-user-study...   \n",
       "5    https://p-lambda.github.io/musicgpt-user-study...   \n",
       "..                                                 ...   \n",
       "591  https://p-lambda.github.io/musicgpt-user-study...   \n",
       "592  https://p-lambda.github.io/musicgpt-user-study...   \n",
       "593  https://p-lambda.github.io/musicgpt-user-study...   \n",
       "597  https://p-lambda.github.io/musicgpt-user-study...   \n",
       "599  https://p-lambda.github.io/musicgpt-user-study...   \n",
       "\n",
       "                                 Input.recording_1_url  Answer.preference  \n",
       "0    https://p-lambda.github.io/musicgpt-user-study...                  1  \n",
       "1    https://p-lambda.github.io/musicgpt-user-study...                  1  \n",
       "2    https://p-lambda.github.io/musicgpt-user-study...                  3  \n",
       "3    https://p-lambda.github.io/musicgpt-user-study...                  3  \n",
       "5    https://p-lambda.github.io/musicgpt-user-study...                  3  \n",
       "..                                                 ...                ...  \n",
       "591  https://p-lambda.github.io/musicgpt-user-study...                  3  \n",
       "592  https://p-lambda.github.io/musicgpt-user-study...                  1  \n",
       "593  https://p-lambda.github.io/musicgpt-user-study...                  3  \n",
       "597  https://p-lambda.github.io/musicgpt-user-study...                  3  \n",
       "599  https://p-lambda.github.io/musicgpt-user-study...                  3  \n",
       "\n",
       "[504 rows x 3 columns]"
      ]
     },
     "execution_count": 8,
     "metadata": {},
     "output_type": "execute_result"
    }
   ],
   "source": [
    "dataframe[dataframe['Answer.preference'] != 2]"
   ]
  },
  {
   "cell_type": "code",
   "execution_count": 27,
   "metadata": {},
   "outputs": [
    {
     "data": {
      "text/plain": [
       "0      https://p-lambda.github.io/musicgpt-user-study...\n",
       "1      https://p-lambda.github.io/musicgpt-user-study...\n",
       "2      https://p-lambda.github.io/musicgpt-user-study...\n",
       "3      https://p-lambda.github.io/musicgpt-user-study...\n",
       "4      https://p-lambda.github.io/musicgpt-user-study...\n",
       "                             ...                        \n",
       "595    https://p-lambda.github.io/musicgpt-user-study...\n",
       "596    https://p-lambda.github.io/musicgpt-user-study...\n",
       "597    https://p-lambda.github.io/musicgpt-user-study...\n",
       "598    https://p-lambda.github.io/musicgpt-user-study...\n",
       "599    https://p-lambda.github.io/musicgpt-user-study...\n",
       "Name: Input.recording_0_url, Length: 600, dtype: object"
      ]
     },
     "execution_count": 27,
     "metadata": {},
     "output_type": "execute_result"
    }
   ],
   "source": [
    "dataframe['Input.recording_0_url'].str.replace('prompt', 'prompt-processed')"
   ]
  },
  {
   "cell_type": "code",
   "execution_count": 32,
   "metadata": {},
   "outputs": [],
   "source": [
    "dataframe = dataframe.applymap(lambda value: str(value).replace('prompt', 'prompt-processed'))"
   ]
  },
  {
   "cell_type": "code",
   "execution_count": 34,
   "metadata": {},
   "outputs": [
    {
     "data": {
      "text/plain": [
       "array(['https://p-lambda.github.io/musicgpt-user-study/prompt-processed/system3/11-clip-v0.mp3',\n",
       "       'https://p-lambda.github.io/musicgpt-user-study/prompt-processed/system4/11-clip-v0.mp3',\n",
       "       '1'], dtype=object)"
      ]
     },
     "execution_count": 34,
     "metadata": {},
     "output_type": "execute_result"
    }
   ],
   "source": [
    "dataframe.iloc[0].to_numpy()"
   ]
  },
  {
   "cell_type": "code",
   "execution_count": 22,
   "metadata": {},
   "outputs": [
    {
     "data": {
      "text/plain": [
       "numpy.int64"
      ]
     },
     "execution_count": 22,
     "metadata": {},
     "output_type": "execute_result"
    }
   ],
   "source": [
    "len(dataframe)\n",
    "type(dataframe.iloc[1]['Answer.preference'])"
   ]
  },
  {
   "cell_type": "code",
   "execution_count": 35,
   "metadata": {},
   "outputs": [
    {
     "data": {
      "text/plain": [
       "['/Users/npb/Desktop/CS224R/Project/music-transformer-rlhf/musicgpt-user-study/prompted-2.csv',\n",
       " '/Users/npb/Desktop/CS224R/Project/music-transformer-rlhf/musicgpt-user-study/prompted-1.csv']"
      ]
     },
     "execution_count": 35,
     "metadata": {},
     "output_type": "execute_result"
    }
   ],
   "source": [
    "csv_files = glob.glob(os.path.join('/Users/npb/Desktop/CS224R/Project/music-transformer-rlhf/musicgpt-user-study', '*.csv'), recursive=True)\n",
    "csv_files"
   ]
  },
  {
   "cell_type": "code",
   "execution_count": 38,
   "metadata": {},
   "outputs": [],
   "source": [
    "dfs = []\n",
    "for csv in csv_files:\n",
    "    dfs.append(pd.read_csv(csv))\n",
    "\n",
    "df = pd.concat(dfs, axis=0, ignore_index=True)"
   ]
  },
  {
   "cell_type": "code",
   "execution_count": 49,
   "metadata": {},
   "outputs": [
    {
     "data": {
      "text/html": [
       "<div>\n",
       "<style scoped>\n",
       "    .dataframe tbody tr th:only-of-type {\n",
       "        vertical-align: middle;\n",
       "    }\n",
       "\n",
       "    .dataframe tbody tr th {\n",
       "        vertical-align: top;\n",
       "    }\n",
       "\n",
       "    .dataframe thead th {\n",
       "        text-align: right;\n",
       "    }\n",
       "</style>\n",
       "<table border=\"1\" class=\"dataframe\">\n",
       "  <thead>\n",
       "    <tr style=\"text-align: right;\">\n",
       "      <th></th>\n",
       "      <th>Input.recording_0_url</th>\n",
       "      <th>Input.recording_1_url</th>\n",
       "      <th>Answer.preference</th>\n",
       "    </tr>\n",
       "  </thead>\n",
       "  <tbody>\n",
       "    <tr>\n",
       "      <th>471</th>\n",
       "      <td>https://p-lambda.github.io/musicgpt-user-study...</td>\n",
       "      <td>https://p-lambda.github.io/musicgpt-user-study...</td>\n",
       "      <td>3</td>\n",
       "    </tr>\n",
       "    <tr>\n",
       "      <th>9</th>\n",
       "      <td>https://p-lambda.github.io/musicgpt-user-study...</td>\n",
       "      <td>https://p-lambda.github.io/musicgpt-user-study...</td>\n",
       "      <td>1</td>\n",
       "    </tr>\n",
       "    <tr>\n",
       "      <th>1499</th>\n",
       "      <td>https://p-lambda.github.io/musicgpt-user-study...</td>\n",
       "      <td>https://p-lambda.github.io/musicgpt-user-study...</td>\n",
       "      <td>3</td>\n",
       "    </tr>\n",
       "    <tr>\n",
       "      <th>54</th>\n",
       "      <td>https://p-lambda.github.io/musicgpt-user-study...</td>\n",
       "      <td>https://p-lambda.github.io/musicgpt-user-study...</td>\n",
       "      <td>1</td>\n",
       "    </tr>\n",
       "    <tr>\n",
       "      <th>1411</th>\n",
       "      <td>https://p-lambda.github.io/musicgpt-user-study...</td>\n",
       "      <td>https://p-lambda.github.io/musicgpt-user-study...</td>\n",
       "      <td>3</td>\n",
       "    </tr>\n",
       "    <tr>\n",
       "      <th>...</th>\n",
       "      <td>...</td>\n",
       "      <td>...</td>\n",
       "      <td>...</td>\n",
       "    </tr>\n",
       "    <tr>\n",
       "      <th>763</th>\n",
       "      <td>https://p-lambda.github.io/musicgpt-user-study...</td>\n",
       "      <td>https://p-lambda.github.io/musicgpt-user-study...</td>\n",
       "      <td>3</td>\n",
       "    </tr>\n",
       "    <tr>\n",
       "      <th>835</th>\n",
       "      <td>https://p-lambda.github.io/musicgpt-user-study...</td>\n",
       "      <td>https://p-lambda.github.io/musicgpt-user-study...</td>\n",
       "      <td>1</td>\n",
       "    </tr>\n",
       "    <tr>\n",
       "      <th>1216</th>\n",
       "      <td>https://p-lambda.github.io/musicgpt-user-study...</td>\n",
       "      <td>https://p-lambda.github.io/musicgpt-user-study...</td>\n",
       "      <td>3</td>\n",
       "    </tr>\n",
       "    <tr>\n",
       "      <th>559</th>\n",
       "      <td>https://p-lambda.github.io/musicgpt-user-study...</td>\n",
       "      <td>https://p-lambda.github.io/musicgpt-user-study...</td>\n",
       "      <td>2</td>\n",
       "    </tr>\n",
       "    <tr>\n",
       "      <th>684</th>\n",
       "      <td>https://p-lambda.github.io/musicgpt-user-study...</td>\n",
       "      <td>https://p-lambda.github.io/musicgpt-user-study...</td>\n",
       "      <td>3</td>\n",
       "    </tr>\n",
       "  </tbody>\n",
       "</table>\n",
       "<p>1500 rows × 3 columns</p>\n",
       "</div>"
      ],
      "text/plain": [
       "                                  Input.recording_0_url  \\\n",
       "471   https://p-lambda.github.io/musicgpt-user-study...   \n",
       "9     https://p-lambda.github.io/musicgpt-user-study...   \n",
       "1499  https://p-lambda.github.io/musicgpt-user-study...   \n",
       "54    https://p-lambda.github.io/musicgpt-user-study...   \n",
       "1411  https://p-lambda.github.io/musicgpt-user-study...   \n",
       "...                                                 ...   \n",
       "763   https://p-lambda.github.io/musicgpt-user-study...   \n",
       "835   https://p-lambda.github.io/musicgpt-user-study...   \n",
       "1216  https://p-lambda.github.io/musicgpt-user-study...   \n",
       "559   https://p-lambda.github.io/musicgpt-user-study...   \n",
       "684   https://p-lambda.github.io/musicgpt-user-study...   \n",
       "\n",
       "                                  Input.recording_1_url  Answer.preference  \n",
       "471   https://p-lambda.github.io/musicgpt-user-study...                  3  \n",
       "9     https://p-lambda.github.io/musicgpt-user-study...                  1  \n",
       "1499  https://p-lambda.github.io/musicgpt-user-study...                  3  \n",
       "54    https://p-lambda.github.io/musicgpt-user-study...                  1  \n",
       "1411  https://p-lambda.github.io/musicgpt-user-study...                  3  \n",
       "...                                                 ...                ...  \n",
       "763   https://p-lambda.github.io/musicgpt-user-study...                  3  \n",
       "835   https://p-lambda.github.io/musicgpt-user-study...                  1  \n",
       "1216  https://p-lambda.github.io/musicgpt-user-study...                  3  \n",
       "559   https://p-lambda.github.io/musicgpt-user-study...                  2  \n",
       "684   https://p-lambda.github.io/musicgpt-user-study...                  3  \n",
       "\n",
       "[1500 rows x 3 columns]"
      ]
     },
     "execution_count": 49,
     "metadata": {},
     "output_type": "execute_result"
    }
   ],
   "source": [
    "df.sample(frac=1, random_state=0)"
   ]
  },
  {
   "cell_type": "code",
   "execution_count": 1,
   "metadata": {},
   "outputs": [
    {
     "name": "stderr",
     "output_type": "stream",
     "text": [
      "/Users/npb/miniconda3/envs/figaro/lib/python3.9/site-packages/tqdm/auto.py:21: TqdmWarning: IProgress not found. Please update jupyter and ipywidgets. See https://ipywidgets.readthedocs.io/en/stable/user_install.html\n",
      "  from .autonotebook import tqdm as notebook_tqdm\n"
     ]
    }
   ],
   "source": [
    "from input_representation import InputRepresentation"
   ]
  },
  {
   "cell_type": "code",
   "execution_count": 17,
   "metadata": {},
   "outputs": [
    {
     "data": {
      "text/plain": [
       "<bound method InputRepresentation._get_time_signature of <input_representation.InputRepresentation object at 0x1770d3fd0>>"
      ]
     },
     "execution_count": 17,
     "metadata": {},
     "output_type": "execute_result"
    }
   ],
   "source": [
    "InputRepresentation('/Users/npb/Desktop/CS224R/Project/music-transformer-rlhf/lmd_full/0/0a0b677f20c5fc6eb9b69c55adec1920.mid', strict=True)"
   ]
  },
  {
   "cell_type": "code",
   "execution_count": 13,
   "metadata": {},
   "outputs": [],
   "source": [
    "midifile_fb = '/Users/npb/Desktop/CS224R/Project/music-transformer-rlhf/musicgpt-user-study/prompt/system4/36-clip-v0.mid'"
   ]
  },
  {
   "cell_type": "code",
   "execution_count": 14,
   "metadata": {},
   "outputs": [
    {
     "data": {
      "text/plain": [
       "<input_representation.InputRepresentation at 0x1771340a0>"
      ]
     },
     "execution_count": 14,
     "metadata": {},
     "output_type": "execute_result"
    }
   ],
   "source": [
    "InputRepresentation(midifile_fb, strict=False)"
   ]
  },
  {
   "cell_type": "code",
   "execution_count": 19,
   "metadata": {},
   "outputs": [],
   "source": [
    "rep = InputRepresentation(midifile_fb, strict=False)\n",
    "#events = rep.get_remi_events()\n",
    "#description = rep.get_description()"
   ]
  }
 ],
 "metadata": {
  "kernelspec": {
   "display_name": "figaro",
   "language": "python",
   "name": "python3"
  },
  "language_info": {
   "codemirror_mode": {
    "name": "ipython",
    "version": 3
   },
   "file_extension": ".py",
   "mimetype": "text/x-python",
   "name": "python",
   "nbconvert_exporter": "python",
   "pygments_lexer": "ipython3",
   "version": "3.9.16"
  },
  "orig_nbformat": 4
 },
 "nbformat": 4,
 "nbformat_minor": 2
}
